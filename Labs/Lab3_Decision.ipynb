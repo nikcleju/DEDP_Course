{
 "cells": [
  {
   "cell_type": "markdown",
   "metadata": {},
   "source": [
    "# Thresholding-based decision with a single sample\n",
    "\n",
    "## Objective\n",
    "\n",
    "Simulate a binary constant-signal detection system based on thresholding, and\n",
    "characterize the system via the Receiver Operating Characteristic.\n",
    "\n",
    "## Theoretical aspects\n",
    "\n",
    "### Decision with a single sample\n",
    "Consider a binary message encoded with two constant levels $0$ and $A$, affected by white noise.\n",
    "Taking a single sample of the signal we obtain a value $r$:\n",
    "$$r = s + n,$$\n",
    "where $s$ is the true signal value (0 or A), and $n$ is the sample of noise.\n",
    "\n",
    "The receiver decides what is the true signal by comparing the sample $r$\n",
    "with a threshold $T$, whose value depends on the specific decision criterion used:\n",
    "\n",
    "  * Maximum Likelihood\n",
    "  * Minimum error probability\n",
    "  * etc.\n",
    "\n",
    "For one decision, there can be **four outcomes**:\n",
    "\n",
    "  * **correct rejection**: signal is 0, detection is 0\n",
    "  * **false alarm**: signal is 0, detection is 1\n",
    "  * **miss**: signal is 1, detection is 0\n",
    "  * **hit** (correct detection): signal is 1, detection is 1\n",
    "\n",
    "The Receiver Operating Characteristic (ROC) curve is the plot of\n",
    "the probability P(hit) against the probability P(false alarm), for all possible values of $T$.\n",
    "\n",
    "### Matlab snippets and code\n",
    "\n",
    "#### Generating random binary data\n",
    "\n",
    "In Matlab, we can generate a vector randomly filled with 0's and 1's in the following way:\n",
    "\n",
    "- We use the function `rand()` to generate a vector with random floating point numbers between 0 and 1\n",
    "- We compare the vector with some constant. The comparison result will be 0's and 1's, which are placed randomly.\n",
    "- If we compare with 0.5, we get an equal amount of 0's and 1's (equal probability).\n",
    "- In general, if we compare with some threshold $p \\in [0,1]$ we get 0's and 1's with probability $p$ and $1-p$, respectively."
   ]
  },
  {
   "cell_type": "code",
   "execution_count": null,
   "metadata": {},
   "outputs": [],
   "source": [
    "% Generate a random vector with 25\\% 0's and 70\\% 1's\n",
    "v = rand(1,10000) > 0.25;"
   ]
  },
  {
   "cell_type": "markdown",
   "metadata": {},
   "source": [
    "### Counting values of 1 from a binary vector\n",
    "\n",
    "If we have a vector containing only 0's and 1's, we can count the number of 1's by simply summing the vector."
   ]
  },
  {
   "cell_type": "code",
   "execution_count": null,
   "metadata": {},
   "outputs": [],
   "source": [
    "% Count how many 1's are in the vector v generated above\n",
    "count = sum(v);"
   ]
  },
  {
   "cell_type": "markdown",
   "metadata": {},
   "source": [
    "# Exercises\n",
    "\n",
    "1. Simulate threshold-based detection with a single sample, as follows:\n",
    "\n",
    "    - Generate a vector of 100000 values $0$ or $A$, with equal probability (consider $A = 5$)\n",
    "    - Add over it a random noise with normal distribution $\\mathcal{N}(0, \\sigma^2=1)$\n",
    "    - Pick a value of $T$ between $0$ and $A$, and compare each element with $T$ to decide which sample is logical 0 or logical 1 (A)\n",
    "    - Compare the decision result with the true original vector, and count how many correct detections and how may false alarms have been\n",
    "    * Estimate P(hit) and P(false alarm) by dividing the above numbers to the size of the vector\n",
    "\n",
    "\n",
    "2. Wrap the above code into a function  `[phit, pfa] =  myThreshDet(T)` that returns\n",
    "the two probabilities for a given `T`. Draw the ROC by running the function for 100 values of $T$ uniformly\n",
    "spaced between $0$ and $A$, and plotting the resulting vector `phit` against `pfa`.\n",
    "\n",
    "3. Repeat the simulation for BPSK modulation, as follows.\n",
    "\n",
    "    - Generate a vector of 100000 values $0$ or $A$, with equal probability (consider $A = 5$)\n",
    "    - Generate a signal `p` with 1 period of a sinusoidal signal, of length 100 samples.\n",
    "    - Generate the BPSK modulated signal `s`. Use `kron()` for this, explain at whiteboard.\n",
    "    - Add over it a random noise with normal distribution $\\mathcal{N}(0, \\sigma^2=1)$. Call the result `r`.\n",
    "    - Plot the signals `s` and `r` on the same figure (original signal and noisy signal)\n",
    "    - Do BPSK de-modulation as follows:\n",
    "      ```\n",
    "      rs = p * reshape(r, 100,[]);\n",
    "      ```\n",
    "    - The vector `rs` is similar to the `r` vector from the previous exercise. Continue in the same way as in the previous exercise.\n",
    "\n",
    "4. Repeat the same simulation in Exercise 1 for two samples per bit:\n",
    "\n",
    "    - double the values of the starting vector, making two consecutive $0$ or $A$ values, e.g. $$[0 0 A A 0 0 A A A A 0 0 A A ...]$$\n",
    "    - the decision now uses **the average  value** of the two consecutive samples of a bit\n",
    "    - plot the ROC and compare with the first one. Which is better?\n",
    "\n",
    "\n",
    "# Final questions\n",
    "\n",
    "1. Suppose we make we start with a vector with much fewer 1's than 0's. Should we increase or decrease the threshold $T$?\n",
    "2. In a practical scenario, what could be a disadvantage of using 2 samples for detection, compared to just 1?"
   ]
  }
 ],
 "metadata": {
  "kernelspec": {
   "display_name": "Matlab",
   "language": "matlab",
   "name": "matlab"
  },
  "language_info": {
   "codemirror_mode": "octave",
   "file_extension": ".m",
   "help_links": [
    {
     "text": "MetaKernel Magics",
     "url": "https://metakernel.readthedocs.io/en/latest/source/README.html"
    }
   ],
   "mimetype": "text/x-octave",
   "name": "matlab",
   "version": "0.16.9"
  }
 },
 "nbformat": 4,
 "nbformat_minor": 4
}
